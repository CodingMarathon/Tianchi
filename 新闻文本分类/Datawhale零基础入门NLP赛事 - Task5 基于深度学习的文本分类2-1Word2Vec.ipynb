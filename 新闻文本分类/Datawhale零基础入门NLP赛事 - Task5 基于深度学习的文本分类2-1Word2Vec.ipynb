{
 "cells": [
  {
   "cell_type": "markdown",
   "metadata": {},
   "source": [
    "# 使用gensim训练word2vec\n",
    "\n",
    "本DEMO只使用部分数据，使用全部数据预训练的词向量地址：  \n",
    "\n",
    "链接: https://pan.baidu.com/s/1ewlck3zwXVQuAzraZ26Euw 提取码: qbpr "
   ]
  },
  {
   "cell_type": "code",
   "execution_count": 1,
   "metadata": {},
   "outputs": [
    {
     "data": {
      "text/plain": [
       "<torch._C.Generator at 0x1d417452eb0>"
      ]
     },
     "execution_count": 1,
     "metadata": {},
     "output_type": "execute_result"
    }
   ],
   "source": [
    "import logging\n",
    "import random\n",
    "\n",
    "import numpy as np\n",
    "import torch\n",
    "\n",
    "logging.basicConfig(level=logging.INFO, format='%(asctime)-15s %(levelname)s: %(message)s')\n",
    "\n",
    "# set seed\n",
    "seed = 666\n",
    "random.seed(seed)\n",
    "np.random.seed(seed)\n",
    "torch.cuda.manual_seed(seed)\n",
    "torch.manual_seed(seed)"
   ]
  },
  {
   "cell_type": "code",
   "execution_count": 2,
   "metadata": {},
   "outputs": [
    {
     "name": "stderr",
     "output_type": "stream",
     "text": [
      "2020-07-20 15:48:39,090 INFO: Fold lens [1000, 1000, 1000, 1000, 1000, 1000, 1000, 1000, 1000, 1000]\n"
     ]
    }
   ],
   "source": [
    "# split data to 10 fold\n",
    "fold_num = 10\n",
    "data_file = './data/train_set.csv'\n",
    "import pandas as pd\n",
    "\n",
    "\n",
    "def all_data2fold(fold_num, num=10000):\n",
    "    fold_data = []\n",
    "    f = pd.read_csv(data_file, sep='\\t', encoding='UTF-8')\n",
    "    texts = f['text'].tolist()[:num]\n",
    "    labels = f['label'].tolist()[:num]\n",
    "\n",
    "    total = len(labels)\n",
    "\n",
    "    index = list(range(total))\n",
    "    np.random.shuffle(index)\n",
    "\n",
    "    all_texts = []\n",
    "    all_labels = []\n",
    "    for i in index:\n",
    "        all_texts.append(texts[i])\n",
    "        all_labels.append(labels[i])\n",
    "\n",
    "    label2id = {}\n",
    "    for i in range(total):\n",
    "        label = str(all_labels[i])\n",
    "        if label not in label2id:\n",
    "            label2id[label] = [i]\n",
    "        else:\n",
    "            label2id[label].append(i)\n",
    "\n",
    "    all_index = [[] for _ in range(fold_num)]\n",
    "    for label, data in label2id.items():\n",
    "        # print(label, len(data))\n",
    "        batch_size = int(len(data) / fold_num)\n",
    "        other = len(data) - batch_size * fold_num\n",
    "        for i in range(fold_num):\n",
    "            cur_batch_size = batch_size + 1 if i < other else batch_size\n",
    "            # print(cur_batch_size)\n",
    "            batch_data = [data[i * batch_size + b] for b in range(cur_batch_size)]\n",
    "            all_index[i].extend(batch_data)\n",
    "\n",
    "    batch_size = int(total / fold_num)\n",
    "    other_texts = []\n",
    "    other_labels = []\n",
    "    other_num = 0\n",
    "    start = 0\n",
    "    for fold in range(fold_num):\n",
    "        num = len(all_index[fold])\n",
    "        texts = [all_texts[i] for i in all_index[fold]]\n",
    "        labels = [all_labels[i] for i in all_index[fold]]\n",
    "\n",
    "        if num > batch_size:\n",
    "            fold_texts = texts[:batch_size]\n",
    "            other_texts.extend(texts[batch_size:])\n",
    "            fold_labels = labels[:batch_size]\n",
    "            other_labels.extend(labels[batch_size:])\n",
    "            other_num += num - batch_size\n",
    "        elif num < batch_size:\n",
    "            end = start + batch_size - num\n",
    "            fold_texts = texts + other_texts[start: end]\n",
    "            fold_labels = labels + other_labels[start: end]\n",
    "            start = end\n",
    "        else:\n",
    "            fold_texts = texts\n",
    "            fold_labels = labels\n",
    "\n",
    "        assert batch_size == len(fold_labels)\n",
    "\n",
    "        # shuffle\n",
    "        index = list(range(batch_size))\n",
    "        np.random.shuffle(index)\n",
    "\n",
    "        shuffle_fold_texts = []\n",
    "        shuffle_fold_labels = []\n",
    "        for i in index:\n",
    "            shuffle_fold_texts.append(fold_texts[i])\n",
    "            shuffle_fold_labels.append(fold_labels[i])\n",
    "\n",
    "        data = {'label': shuffle_fold_labels, 'text': shuffle_fold_texts}\n",
    "        fold_data.append(data)\n",
    "\n",
    "    logging.info(\"Fold lens %s\", str([len(data['label']) for data in fold_data]))\n",
    "\n",
    "    return fold_data\n",
    "\n",
    "\n",
    "fold_data = all_data2fold(10)"
   ]
  },
  {
   "cell_type": "code",
   "execution_count": 3,
   "metadata": {},
   "outputs": [
    {
     "name": "stderr",
     "output_type": "stream",
     "text": [
      "2020-07-20 15:50:23,696 INFO: Total 9000 docs.\n"
     ]
    }
   ],
   "source": [
    "# build train data for word2vec\n",
    "fold_id = 9\n",
    "\n",
    "train_texts = []\n",
    "for i in range(0, fold_id):\n",
    "    data = fold_data[i]\n",
    "    train_texts.extend(data['text'])\n",
    "    \n",
    "logging.info('Total %d docs.' % len(train_texts))"
   ]
  },
  {
   "cell_type": "code",
   "execution_count": 4,
   "metadata": {},
   "outputs": [
    {
     "name": "stderr",
     "output_type": "stream",
     "text": [
      "2020-07-20 15:52:10,119 INFO: Start training...\n",
      "2020-07-20 15:52:12,055 INFO: collecting all words and their counts\n",
      "2020-07-20 15:52:12,057 INFO: PROGRESS: at sentence #0, processed 0 words, keeping 0 word types\n",
      "2020-07-20 15:52:13,512 INFO: collected 5295 word types from a corpus of 8191447 raw words and 9000 sentences\n",
      "2020-07-20 15:52:13,514 INFO: Loading a fresh vocabulary\n",
      "2020-07-20 15:52:13,605 INFO: effective_min_count=5 retains 4335 unique words (81% of original 5295, drops 960)\n",
      "2020-07-20 15:52:13,606 INFO: effective_min_count=5 leaves 8189498 word corpus (99% of original 8191447, drops 1949)\n",
      "2020-07-20 15:52:13,628 INFO: deleting the raw counts dictionary of 5295 items\n",
      "2020-07-20 15:52:13,629 INFO: sample=0.001 downsamples 61 most-common words\n",
      "2020-07-20 15:52:13,631 INFO: downsampling leaves estimated 7070438 word corpus (86.3% of prior 8189498)\n",
      "2020-07-20 15:52:13,658 INFO: estimated required memory for 4335 words and 100 dimensions: 5635500 bytes\n",
      "2020-07-20 15:52:13,661 INFO: resetting layer weights\n",
      "2020-07-20 15:52:14,663 INFO: training model with 8 workers on 4335 vocabulary and 100 features, using sg=0 hs=0 sample=0.001 negative=5 window=5\n",
      "2020-07-20 15:52:15,680 INFO: EPOCH 1 - PROGRESS: at 12.44% examples, 873181 words/s, in_qsize 15, out_qsize 0\n",
      "2020-07-20 15:52:16,691 INFO: EPOCH 1 - PROGRESS: at 24.93% examples, 869081 words/s, in_qsize 16, out_qsize 1\n",
      "2020-07-20 15:52:17,711 INFO: EPOCH 1 - PROGRESS: at 38.27% examples, 886906 words/s, in_qsize 12, out_qsize 3\n",
      "2020-07-20 15:52:18,711 INFO: EPOCH 1 - PROGRESS: at 51.83% examples, 893581 words/s, in_qsize 15, out_qsize 0\n",
      "2020-07-20 15:52:19,713 INFO: EPOCH 1 - PROGRESS: at 64.28% examples, 896649 words/s, in_qsize 15, out_qsize 0\n",
      "2020-07-20 15:52:20,737 INFO: EPOCH 1 - PROGRESS: at 77.72% examples, 900843 words/s, in_qsize 16, out_qsize 0\n",
      "2020-07-20 15:52:21,738 INFO: EPOCH 1 - PROGRESS: at 89.07% examples, 888330 words/s, in_qsize 16, out_qsize 0\n",
      "2020-07-20 15:52:22,654 INFO: worker thread finished; awaiting finish of 7 more threads\n",
      "2020-07-20 15:52:22,669 INFO: worker thread finished; awaiting finish of 6 more threads\n",
      "2020-07-20 15:52:22,683 INFO: worker thread finished; awaiting finish of 5 more threads\n",
      "2020-07-20 15:52:22,684 INFO: worker thread finished; awaiting finish of 4 more threads\n",
      "2020-07-20 15:52:22,686 INFO: worker thread finished; awaiting finish of 3 more threads\n",
      "2020-07-20 15:52:22,704 INFO: worker thread finished; awaiting finish of 2 more threads\n",
      "2020-07-20 15:52:22,711 INFO: worker thread finished; awaiting finish of 1 more threads\n",
      "2020-07-20 15:52:22,727 INFO: worker thread finished; awaiting finish of 0 more threads\n",
      "2020-07-20 15:52:22,729 INFO: EPOCH - 1 : training on 8191447 raw words (7021861 effective words) took 8.1s, 871589 effective words/s\n",
      "2020-07-20 15:52:23,793 INFO: EPOCH 2 - PROGRESS: at 8.40% examples, 566317 words/s, in_qsize 16, out_qsize 2\n",
      "2020-07-20 15:52:24,796 INFO: EPOCH 2 - PROGRESS: at 17.71% examples, 601122 words/s, in_qsize 15, out_qsize 0\n",
      "2020-07-20 15:52:25,805 INFO: EPOCH 2 - PROGRESS: at 27.97% examples, 643856 words/s, in_qsize 15, out_qsize 0\n",
      "2020-07-20 15:52:26,844 INFO: EPOCH 2 - PROGRESS: at 38.48% examples, 663006 words/s, in_qsize 15, out_qsize 0\n",
      "2020-07-20 15:52:27,902 INFO: EPOCH 2 - PROGRESS: at 49.97% examples, 676333 words/s, in_qsize 15, out_qsize 0\n",
      "2020-07-20 15:52:28,924 INFO: EPOCH 2 - PROGRESS: at 60.43% examples, 687368 words/s, in_qsize 15, out_qsize 0\n",
      "2020-07-20 15:52:29,936 INFO: EPOCH 2 - PROGRESS: at 70.52% examples, 691581 words/s, in_qsize 15, out_qsize 0\n",
      "2020-07-20 15:52:30,969 INFO: EPOCH 2 - PROGRESS: at 82.00% examples, 700431 words/s, in_qsize 15, out_qsize 0\n",
      "2020-07-20 15:52:31,969 INFO: EPOCH 2 - PROGRESS: at 91.79% examples, 700003 words/s, in_qsize 15, out_qsize 0\n",
      "2020-07-20 15:52:32,712 INFO: worker thread finished; awaiting finish of 7 more threads\n",
      "2020-07-20 15:52:32,729 INFO: worker thread finished; awaiting finish of 6 more threads\n",
      "2020-07-20 15:52:32,731 INFO: worker thread finished; awaiting finish of 5 more threads\n",
      "2020-07-20 15:52:32,733 INFO: worker thread finished; awaiting finish of 4 more threads\n",
      "2020-07-20 15:52:32,760 INFO: worker thread finished; awaiting finish of 3 more threads\n",
      "2020-07-20 15:52:32,767 INFO: worker thread finished; awaiting finish of 2 more threads\n",
      "2020-07-20 15:52:32,771 INFO: worker thread finished; awaiting finish of 1 more threads\n",
      "2020-07-20 15:52:32,774 INFO: worker thread finished; awaiting finish of 0 more threads\n",
      "2020-07-20 15:52:32,774 INFO: EPOCH - 2 : training on 8191447 raw words (7020602 effective words) took 10.0s, 699941 effective words/s\n",
      "2020-07-20 15:52:33,822 INFO: EPOCH 3 - PROGRESS: at 9.50% examples, 655907 words/s, in_qsize 15, out_qsize 0\n",
      "2020-07-20 15:52:34,847 INFO: EPOCH 3 - PROGRESS: at 20.01% examples, 679712 words/s, in_qsize 13, out_qsize 2\n",
      "2020-07-20 15:52:35,893 INFO: EPOCH 3 - PROGRESS: at 29.62% examples, 677262 words/s, in_qsize 15, out_qsize 0\n",
      "2020-07-20 15:52:36,896 INFO: EPOCH 3 - PROGRESS: at 41.40% examples, 713311 words/s, in_qsize 15, out_qsize 0\n",
      "2020-07-20 15:52:37,913 INFO: EPOCH 3 - PROGRESS: at 54.72% examples, 748479 words/s, in_qsize 15, out_qsize 0\n",
      "2020-07-20 15:52:38,915 INFO: EPOCH 3 - PROGRESS: at 66.70% examples, 767157 words/s, in_qsize 15, out_qsize 0\n",
      "2020-07-20 15:52:39,927 INFO: EPOCH 3 - PROGRESS: at 80.10% examples, 789677 words/s, in_qsize 15, out_qsize 0\n",
      "2020-07-20 15:52:40,938 INFO: EPOCH 3 - PROGRESS: at 91.56% examples, 792173 words/s, in_qsize 15, out_qsize 0\n",
      "2020-07-20 15:52:41,521 INFO: worker thread finished; awaiting finish of 7 more threads\n",
      "2020-07-20 15:52:41,526 INFO: worker thread finished; awaiting finish of 6 more threads\n",
      "2020-07-20 15:52:41,527 INFO: worker thread finished; awaiting finish of 5 more threads\n",
      "2020-07-20 15:52:41,534 INFO: worker thread finished; awaiting finish of 4 more threads\n",
      "2020-07-20 15:52:41,545 INFO: worker thread finished; awaiting finish of 3 more threads\n",
      "2020-07-20 15:52:41,562 INFO: worker thread finished; awaiting finish of 2 more threads\n",
      "2020-07-20 15:52:41,567 INFO: worker thread finished; awaiting finish of 1 more threads\n",
      "2020-07-20 15:52:41,568 INFO: worker thread finished; awaiting finish of 0 more threads\n",
      "2020-07-20 15:52:41,569 INFO: EPOCH - 3 : training on 8191447 raw words (7021643 effective words) took 8.8s, 801145 effective words/s\n",
      "2020-07-20 15:52:42,598 INFO: EPOCH 4 - PROGRESS: at 11.59% examples, 803732 words/s, in_qsize 13, out_qsize 2\n",
      "2020-07-20 15:52:43,601 INFO: EPOCH 4 - PROGRESS: at 23.92% examples, 835141 words/s, in_qsize 16, out_qsize 0\n",
      "2020-07-20 15:52:44,643 INFO: EPOCH 4 - PROGRESS: at 37.09% examples, 852237 words/s, in_qsize 14, out_qsize 1\n",
      "2020-07-20 15:52:45,659 INFO: EPOCH 4 - PROGRESS: at 48.59% examples, 836519 words/s, in_qsize 16, out_qsize 1\n",
      "2020-07-20 15:52:46,665 INFO: EPOCH 4 - PROGRESS: at 58.71% examples, 808055 words/s, in_qsize 15, out_qsize 0\n",
      "2020-07-20 15:52:47,666 INFO: EPOCH 4 - PROGRESS: at 68.84% examples, 797216 words/s, in_qsize 15, out_qsize 0\n",
      "2020-07-20 15:52:48,697 INFO: EPOCH 4 - PROGRESS: at 80.28% examples, 793050 words/s, in_qsize 15, out_qsize 0\n",
      "2020-07-20 15:52:49,742 INFO: EPOCH 4 - PROGRESS: at 91.98% examples, 793665 words/s, in_qsize 15, out_qsize 0\n",
      "2020-07-20 15:52:50,384 INFO: worker thread finished; awaiting finish of 7 more threads\n",
      "2020-07-20 15:52:50,402 INFO: worker thread finished; awaiting finish of 6 more threads\n",
      "2020-07-20 15:52:50,404 INFO: worker thread finished; awaiting finish of 5 more threads\n",
      "2020-07-20 15:52:50,409 INFO: worker thread finished; awaiting finish of 4 more threads\n",
      "2020-07-20 15:52:50,423 INFO: worker thread finished; awaiting finish of 3 more threads\n",
      "2020-07-20 15:52:50,432 INFO: worker thread finished; awaiting finish of 2 more threads\n",
      "2020-07-20 15:52:50,434 INFO: worker thread finished; awaiting finish of 1 more threads\n",
      "2020-07-20 15:52:50,450 INFO: worker thread finished; awaiting finish of 0 more threads\n",
      "2020-07-20 15:52:50,452 INFO: EPOCH - 4 : training on 8191447 raw words (7022892 effective words) took 8.9s, 791964 effective words/s\n",
      "2020-07-20 15:52:51,481 INFO: EPOCH 5 - PROGRESS: at 11.69% examples, 816699 words/s, in_qsize 15, out_qsize 0\n",
      "2020-07-20 15:52:52,524 INFO: EPOCH 5 - PROGRESS: at 21.97% examples, 745658 words/s, in_qsize 15, out_qsize 0\n"
     ]
    },
    {
     "name": "stderr",
     "output_type": "stream",
     "text": [
      "2020-07-20 15:52:53,564 INFO: EPOCH 5 - PROGRESS: at 30.51% examples, 692917 words/s, in_qsize 16, out_qsize 0\n",
      "2020-07-20 15:52:54,612 INFO: EPOCH 5 - PROGRESS: at 40.26% examples, 683095 words/s, in_qsize 15, out_qsize 0\n",
      "2020-07-20 15:52:55,614 INFO: EPOCH 5 - PROGRESS: at 50.72% examples, 687032 words/s, in_qsize 15, out_qsize 0\n",
      "2020-07-20 15:52:56,618 INFO: EPOCH 5 - PROGRESS: at 60.93% examples, 694436 words/s, in_qsize 15, out_qsize 0\n",
      "2020-07-20 15:52:57,621 INFO: EPOCH 5 - PROGRESS: at 72.72% examples, 717691 words/s, in_qsize 15, out_qsize 0\n",
      "2020-07-20 15:52:58,632 INFO: EPOCH 5 - PROGRESS: at 84.84% examples, 731172 words/s, in_qsize 15, out_qsize 0\n",
      "2020-07-20 15:52:59,659 INFO: EPOCH 5 - PROGRESS: at 97.04% examples, 742856 words/s, in_qsize 15, out_qsize 0\n",
      "2020-07-20 15:52:59,837 INFO: worker thread finished; awaiting finish of 7 more threads\n",
      "2020-07-20 15:52:59,854 INFO: worker thread finished; awaiting finish of 6 more threads\n",
      "2020-07-20 15:52:59,859 INFO: worker thread finished; awaiting finish of 5 more threads\n",
      "2020-07-20 15:52:59,863 INFO: worker thread finished; awaiting finish of 4 more threads\n",
      "2020-07-20 15:52:59,864 INFO: worker thread finished; awaiting finish of 3 more threads\n",
      "2020-07-20 15:52:59,872 INFO: worker thread finished; awaiting finish of 2 more threads\n",
      "2020-07-20 15:52:59,880 INFO: worker thread finished; awaiting finish of 1 more threads\n",
      "2020-07-20 15:52:59,885 INFO: worker thread finished; awaiting finish of 0 more threads\n",
      "2020-07-20 15:52:59,887 INFO: EPOCH - 5 : training on 8191447 raw words (7021787 effective words) took 9.4s, 745353 effective words/s\n",
      "2020-07-20 15:52:59,889 INFO: training on a 40957235 raw words (35108785 effective words) took 45.2s, 776331 effective words/s\n",
      "2020-07-20 15:52:59,892 INFO: precomputing L2-norms of word weight vectors\n",
      "2020-07-20 15:52:59,898 INFO: saving Word2Vec object under ./word2vec.bin, separately None\n",
      "2020-07-20 15:52:59,900 INFO: not storing attribute vectors_norm\n",
      "2020-07-20 15:52:59,902 INFO: not storing attribute cum_table\n",
      "2020-07-20 15:52:59,964 INFO: saved ./word2vec.bin\n"
     ]
    }
   ],
   "source": [
    "logging.info('Start training...')\n",
    "from gensim.models.word2vec import Word2Vec\n",
    "\n",
    "num_features = 100     # Word vector dimensionality\n",
    "num_workers = 8       # Number of threads to run in parallel\n",
    "\n",
    "train_texts = list(map(lambda x: list(x.split()), train_texts))\n",
    "model = Word2Vec(train_texts, workers=num_workers, size=num_features)\n",
    "model.init_sims(replace=True)\n",
    "\n",
    "# save model\n",
    "model.save(\"./word2vec.bin\")"
   ]
  },
  {
   "cell_type": "code",
   "execution_count": 5,
   "metadata": {},
   "outputs": [
    {
     "name": "stderr",
     "output_type": "stream",
     "text": [
      "2020-07-20 15:53:19,684 INFO: loading Word2Vec object from ./word2vec.bin\n",
      "2020-07-20 15:53:19,730 INFO: loading wv recursively from ./word2vec.bin.wv.* with mmap=None\n",
      "2020-07-20 15:53:19,732 INFO: setting ignored attribute vectors_norm to None\n",
      "2020-07-20 15:53:19,734 INFO: loading vocabulary recursively from ./word2vec.bin.vocabulary.* with mmap=None\n",
      "2020-07-20 15:53:19,736 INFO: loading trainables recursively from ./word2vec.bin.trainables.* with mmap=None\n",
      "2020-07-20 15:53:19,739 INFO: setting ignored attribute cum_table to None\n",
      "2020-07-20 15:53:19,741 INFO: loaded ./word2vec.bin\n",
      "2020-07-20 15:53:19,759 INFO: storing 4335x100 projection weights into ./word2vec.txt\n"
     ]
    }
   ],
   "source": [
    "# load model\n",
    "model = Word2Vec.load(\"./word2vec.bin\")\n",
    "\n",
    "# convert format\n",
    "model.wv.save_word2vec_format('./word2vec.txt', binary=False)"
   ]
  },
  {
   "cell_type": "markdown",
   "metadata": {},
   "source": [
    "**关于Datawhale：**\n",
    "\n",
    "> Datawhale是一个专注于数据科学与AI领域的开源组织，汇集了众多领域院校和知名企业的优秀学习者，聚合了一群有开源精神和探索精神的团队成员。Datawhale 以“for the learner，和学习者一起成长”为愿景，鼓励真实地展现自我、开放包容、互信互助、敢于试错和勇于担当。同时 Datawhale 用开源的理念去探索开源内容、开源学习和开源方案，赋能人才培养，助力人才成长，建立起人与人，人与知识，人与企业和人与未来的联结。\n",
    "\n",
    "本次新闻文本分类学习，专题知识将在天池分享，详情可关注Datawhale：\n",
    "\n",
    " ![](http://jupter-oss.oss-cn-hangzhou.aliyuncs.com/public/files/image/1095279172547/1584432602983_kAxAvgQpG2.jpg)"
   ]
  }
 ],
 "metadata": {
  "kernelspec": {
   "display_name": "Python [conda env:pytorch]",
   "language": "python",
   "name": "conda-env-pytorch-py"
  },
  "language_info": {
   "codemirror_mode": {
    "name": "ipython",
    "version": 3
   },
   "file_extension": ".py",
   "mimetype": "text/x-python",
   "name": "python",
   "nbconvert_exporter": "python",
   "pygments_lexer": "ipython3",
   "version": "3.7.7"
  }
 },
 "nbformat": 4,
 "nbformat_minor": 2
}
